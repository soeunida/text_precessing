{
 "cells": [
  {
   "cell_type": "code",
   "execution_count": null,
   "metadata": {},
   "outputs": [],
   "source": []
  },
  {
   "cell_type": "code",
   "execution_count": null,
   "metadata": {},
   "outputs": [],
   "source": [
    "## study_regex.ipynb"
   ]
  },
  {
   "cell_type": "code",
   "execution_count": 1,
   "metadata": {},
   "outputs": [],
   "source": [
    "import re"
   ]
  },
  {
   "cell_type": "code",
   "execution_count": 2,
   "metadata": {},
   "outputs": [
    {
     "data": {
      "text/plain": [
       "['abc', 'abc', 'abc']"
      ]
     },
     "execution_count": 2,
     "metadata": {},
     "output_type": "execute_result"
    }
   ],
   "source": [
    "re.findall(\"abc\", \"kafabceiaselfabcalisjeabcflajslefj;aef\")"
   ]
  },
  {
   "cell_type": "code",
   "execution_count": 3,
   "metadata": {},
   "outputs": [
    {
     "name": "stdout",
     "output_type": "stream",
     "text": [
      "abc\n",
      "abc\n",
      "abc\n"
     ]
    }
   ],
   "source": [
    "for match in re.findall(\"abc\", \"kafabceiaselfabcalisjeabcflajslefj;aef\"): # 파이썬의 리스트 형태로\n",
    "    print(match)"
   ]
  },
  {
   "cell_type": "code",
   "execution_count": 4,
   "metadata": {},
   "outputs": [],
   "source": [
    "iterator = re.finditer(\"abc\", \"kafabceiaselfabcalisjeabcflajslefj;aef\")"
   ]
  },
  {
   "cell_type": "code",
   "execution_count": 5,
   "metadata": {},
   "outputs": [
    {
     "name": "stdout",
     "output_type": "stream",
     "text": [
      "abc\n",
      "abc\n",
      "abc\n"
     ]
    }
   ],
   "source": [
    "for match in iterator:\n",
    "    print(match.group())"
   ]
  },
  {
   "cell_type": "code",
   "execution_count": 6,
   "metadata": {},
   "outputs": [
    {
     "data": {
      "text/plain": [
       "['abc', 'abc']"
      ]
     },
     "execution_count": 6,
     "metadata": {},
     "output_type": "execute_result"
    }
   ],
   "source": [
    "# [ ] : 일치시키려는 문자 집합인 문자 클래스를 지정하는데 사용\n",
    "re.findall(\"abc\", \"askdfj;akdfj;lajdf;laj;lakdsfabcasdfaabcdadf\")"
   ]
  },
  {
   "cell_type": "code",
   "execution_count": 7,
   "metadata": {},
   "outputs": [
    {
     "data": {
      "text/plain": [
       "[]"
      ]
     },
     "execution_count": 7,
     "metadata": {},
     "output_type": "execute_result"
    }
   ],
   "source": [
    "# - 로 문자 클래스의 범위를 지정할 수 있다.\n",
    "re.findall(\"[xy]\", \"askdfj;akdfj;lajdf;laj;lakdsfabcasdfaabcdadf\")"
   ]
  },
  {
   "cell_type": "code",
   "execution_count": 8,
   "metadata": {},
   "outputs": [
    {
     "data": {
      "text/plain": [
       "['a', 'a', 'a', 'a', 'a', 'a', 'b', 'c', 'a', 'a', 'a', 'b', 'c', 'a']"
      ]
     },
     "execution_count": 8,
     "metadata": {},
     "output_type": "execute_result"
    }
   ],
   "source": [
    "re.findall(\"[abc]\", \"askdfj;akdfj;lajdf;laj;lakdsfabcasdfaabcdadf\")"
   ]
  },
  {
   "cell_type": "code",
   "execution_count": 9,
   "metadata": {},
   "outputs": [
    {
     "data": {
      "text/plain": [
       "(['3', '5', '3', '4', '2', '3', '4'], list)"
      ]
     },
     "execution_count": 9,
     "metadata": {},
     "output_type": "execute_result"
    }
   ],
   "source": [
    "# 퀴즈 1 : 제시한 문자열에서 숫자들의 갯수\n",
    "re.findall(\"[0123456789]\", \"asdfjl;ajdf;la3534l2k3o;lkdagj;qi4touoq\"), type(re.findall(\"[0123456789]\", \"asdfjl;ajdf;la3534l2k3o;lkdagj;qi4touoq\"))"
   ]
  },
  {
   "cell_type": "code",
   "execution_count": 10,
   "metadata": {},
   "outputs": [
    {
     "data": {
      "text/plain": [
       "7"
      ]
     },
     "execution_count": 10,
     "metadata": {},
     "output_type": "execute_result"
    }
   ],
   "source": [
    "# len(re.findall(\"[0123456789]\", \"asdfjl;ajdf;la3534l2k3o;lkdagj;qi4touoq\"))\n",
    "len(re.findall(\"[0-9]\", \"asdfjl;ajdf;la3534l2k3o;lkdagj;qi4touoq\")) "
   ]
  },
  {
   "cell_type": "code",
   "execution_count": 11,
   "metadata": {},
   "outputs": [],
   "source": [
    "# 파이썬에서 정말 많이 사용하는 데이터 구조 3형제\n",
    "# () : tuple, 변경이 안 됨! pandas나 numpy에서 특정한 결과를 줄 때 튜플 형태로 결과를 알려줌\n",
    "# {} : dictionary, key-value, JSON 포맷과 형태 비슷. JSON 형태를 웹에서 데이트를 가져오면, decode하면 바로 dictionary\n",
    "# [] : list, 모든 것들을 다 담을 수 있다. 길이도 가변적... 왠만한 경우 거의 리스트를 사용! 메모리 사용이 비효율적"
   ]
  },
  {
   "cell_type": "code",
   "execution_count": 18,
   "metadata": {},
   "outputs": [
    {
     "data": {
      "text/plain": [
       "['3534']"
      ]
     },
     "execution_count": 18,
     "metadata": {},
     "output_type": "execute_result"
    }
   ],
   "source": [
    "# 퀴즈 2 : 숫자가 4개 이어진 부분을 찾아주세요!\n",
    "re.findall(\"[0-9][0-9][0-9][0-9]\", \"asdfjl;ajdf;la3534l2k3o;lkdagj;qi4touoq\")"
   ]
  },
  {
   "cell_type": "code",
   "execution_count": 19,
   "metadata": {},
   "outputs": [
    {
     "data": {
      "text/plain": [
       "['3534']"
      ]
     },
     "execution_count": 19,
     "metadata": {},
     "output_type": "execute_result"
    }
   ],
   "source": [
    "re.findall(\"[0-9]{4}\", \"asdfjl;ajdf;la3534l2k3o;lkdagj;qi4touoq\")"
   ]
  },
  {
   "cell_type": "code",
   "execution_count": 13,
   "metadata": {},
   "outputs": [
    {
     "name": "stdout",
     "output_type": "stream",
     "text": [
      "없다!\n"
     ]
    }
   ],
   "source": [
    "if len(re.findall(\"[0-9][0-9][0-9][0-9][0-9]\", \"asdfjl;ajdf;la3534l2k3o;lkdagj;qi4touoq\")) > 0:\n",
    "    print(\"찾았다!\")\n",
    "else:\n",
    "    print(\"없다!\")"
   ]
  },
  {
   "cell_type": "code",
   "execution_count": 14,
   "metadata": {},
   "outputs": [
    {
     "name": "stdout",
     "output_type": "stream",
     "text": [
      "asdkfjqoitlskdnfoqwiekhas;ioew=adgoie\n",
      "askdfl_asdkfei_asdjkfla****askeasfff\n"
     ]
    }
   ],
   "source": [
    "# ^ : 지정한 클래스에 해당되지 않는 것을 찾아라!\n",
    "documents = ['asdfj;laieorkdjf;aliejr;akjdf23k4j;lajds;l',\n",
    "            'asdfjoqweitulad;ai@weutadg;lajoetiuaodkgjier',\n",
    "            'asdkfjqoitlskdnfoqwiekhas;ioew=adgoie',\n",
    "            'askdfl_asdkfei_asdjkfla****askeasfff',\n",
    "            '{{{{{asdfjowei@@##askdfoie}}}}}']\n",
    "regExp = '[0-9:\"{}()@#&]'\n",
    "\n",
    "for doc in documents:\n",
    "    if len(re.findall(regExp, doc)) > 0:\n",
    "        pass\n",
    "    else:\n",
    "        print(doc)"
   ]
  },
  {
   "cell_type": "code",
   "execution_count": 15,
   "metadata": {},
   "outputs": [
    {
     "name": "stdout",
     "output_type": "stream",
     "text": [
      "['a', 's', 'd', 'f', 'j', 'l', 'a', 'i', 'e', 'o', 'r', 'k', 'd', 'j', 'f', 'a', 'l', 'i', 'e', 'j', 'r', 'a', 'k', 'j', 'd', 'f', 'k', 'j', 'l', 'a', 'j', 'd', 's', 'l']\n",
      "['a', 's', 'd', 'f', 'j', 'o', 'q', 'w', 'e', 'i', 't', 'u', 'l', 'a', 'd', 'a', 'i', 'w', 'e', 'u', 't', 'a', 'd', 'g', 'l', 'a', 'j', 'o', 'e', 't', 'i', 'u', 'a', 'o', 'd', 'k', 'g', 'j', 'i', 'e', 'r']\n",
      "['a', 's', 'd', 'k', 'f', 'j', 'q', 'o', 'i', 't', 'l', 's', 'k', 'd', 'n', 'f', 'o', 'q', 'w', 'i', 'e', 'k', 'h', 'a', 's', 'i', 'o', 'e', 'w', 'a', 'd', 'g', 'o', 'i', 'e']\n",
      "['a', 's', 'k', 'd', 'f', 'l', 'a', 's', 'd', 'k', 'f', 'e', 'i', 'a', 's', 'd', 'j', 'k', 'f', 'l', 'a', 'a', 's', 'k', 'e', 'a', 's', 'f', 'f', 'f']\n",
      "['a', 's', 'd', 'f', 'j', 'o', 'w', 'e', 'i', 'a', 's', 'k', 'd', 'f', 'o', 'i', 'e']\n"
     ]
    }
   ],
   "source": [
    "documents = ['asdfj;laieorkdjf;aliejr;akjdf23k4j;lajds;l',\n",
    "            'asdfjoqweitulad;ai@weutadg;lajoetiuaodkgjier',\n",
    "            'asdkfjqoitlskdnfoqwiekhas;ioew=adgoie',\n",
    "            'askdfl_asdkfei_asdjkfla****askeasfff',\n",
    "            '{{{{{asdfjowei@@##askdfoie}}}}}']\n",
    "regExp = '[^0-9:;=\"_*{}()@#&]'\n",
    "\n",
    "for doc in documents:\n",
    "    if len(re.findall(regExp, doc)) < 0:\n",
    "        pass\n",
    "    else:\n",
    "        print(re.findall(regExp, doc))"
   ]
  },
  {
   "cell_type": "code",
   "execution_count": 16,
   "metadata": {},
   "outputs": [],
   "source": [
    "# \\\n",
    "# 퀴즈 3 : doc에서 모든 \\를 찾아보세요!\n",
    "doc = \"\\n for new [line, ] \\section and \\document and \\\\\\section \\n\""
   ]
  },
  {
   "cell_type": "code",
   "execution_count": 17,
   "metadata": {},
   "outputs": [
    {
     "ename": "SyntaxError",
     "evalue": "EOL while scanning string literal (CreatorTemp/ipykernel_2428/409492750.py, line 2)",
     "output_type": "error",
     "traceback": [
      "\u001b[1;36m  File \u001b[1;32m\"C:\\Users\\Public\\Documents\\ESTsoft\\CreatorTemp/ipykernel_2428/409492750.py\"\u001b[1;36m, line \u001b[1;32m2\u001b[0m\n\u001b[1;33m    regExp = \"\\\"\u001b[0m\n\u001b[1;37m                ^\u001b[0m\n\u001b[1;31mSyntaxError\u001b[0m\u001b[1;31m:\u001b[0m EOL while scanning string literal\n"
     ]
    }
   ],
   "source": [
    "doc = \"\\n for new [line, ] \\section and \\document and \\\\\\section \\n\"\n",
    "regExp = \"\\\"\n",
    "print(len(re.findall(regExp, doc)))"
   ]
  },
  {
   "cell_type": "code",
   "execution_count": null,
   "metadata": {},
   "outputs": [
    {
     "name": "stdout",
     "output_type": "stream",
     "text": [
      "0\n"
     ]
    }
   ],
   "source": [
    "# doc = \"\\n for new [line, ] '\\'section and \\document and \\\\\\section \\n\"\n",
    "doc = \"\\n for new [line, ] \\section and \\document and \\\\\\section \\n\"\n",
    "regExp = \"'\\'\"\n",
    "print(len(re.findall(regExp, doc)))"
   ]
  },
  {
   "cell_type": "code",
   "execution_count": null,
   "metadata": {},
   "outputs": [
    {
     "name": "stdout",
     "output_type": "stream",
     "text": [
      "0\n"
     ]
    }
   ],
   "source": [
    "\n",
    "# doc = \"\\n for new [line, ] '\\'section and \\document and \\\\\\section \\n\"\n",
    "doc = \"\\n for new [line, ] \\section and \\document and \\\\\\section \\n\"\n",
    "# regExp = \"\\\\\" # escape character 특수문자를 표시하기 일반적으로 \\를 추가\n",
    "regExp = \"'\\\\'\" # escape character 특수문자를 표시하기 일반적으로 \\를 추가\n",
    "print(len(re.findall(regExp, doc)))"
   ]
  },
  {
   "cell_type": "code",
   "execution_count": null,
   "metadata": {},
   "outputs": [
    {
     "name": "stdout",
     "output_type": "stream",
     "text": [
      " for new [line, ] \\section and \\document and \\\\section \n"
     ]
    }
   ],
   "source": [
    "# doc = \"\\n for new [line, ] \\section and \\document and \\\\\\section \\n\"\n",
    "doc = \" for new [line, ] \\section and \\document and \\\\\\section \"\n",
    "print(doc)"
   ]
  },
  {
   "cell_type": "code",
   "execution_count": null,
   "metadata": {},
   "outputs": [
    {
     "name": "stdout",
     "output_type": "stream",
     "text": [
      " for new [line, ] \\section and \\document and \\\\section \n"
     ]
    }
   ],
   "source": [
    "doc = \" for new [line, ] \\section and \\document and \\\\\\section \"\n",
    "print(doc)"
   ]
  },
  {
   "cell_type": "code",
   "execution_count": null,
   "metadata": {},
   "outputs": [
    {
     "name": "stdout",
     "output_type": "stream",
     "text": [
      "\n",
      " for new [line, ] \\section and \\document and \\\\section \n",
      "\n"
     ]
    }
   ],
   "source": [
    "doc = \"\\n for new [line, ] \\section and \\document and \\\\\\section \\n\"\n",
    "print(doc)"
   ]
  },
  {
   "cell_type": "code",
   "execution_count": null,
   "metadata": {},
   "outputs": [
    {
     "name": "stdout",
     "output_type": "stream",
     "text": [
      "4\n"
     ]
    }
   ],
   "source": [
    "doc = \"\\n for new [line, ] \\section and \\document and \\\\\\section \\n\"\n",
    "regExp = \"[\\\\\\]\"\n",
    "print(len(re.findall(regExp, doc)))"
   ]
  },
  {
   "cell_type": "code",
   "execution_count": null,
   "metadata": {},
   "outputs": [
    {
     "name": "stdout",
     "output_type": "stream",
     "text": [
      "\\\\section\n"
     ]
    }
   ],
   "source": [
    "print(\"\\\\\\section\") # \\\\ => \\"
   ]
  },
  {
   "cell_type": "code",
   "execution_count": null,
   "metadata": {},
   "outputs": [
    {
     "name": "stdout",
     "output_type": "stream",
     "text": [
      "7\n"
     ]
    }
   ],
   "source": [
    "doc = r\"\\n for new [line, ] \\section and \\document and \\\\\\section \\n\"\n",
    "regExp = \"[\\\\\\]\"\n",
    "print(len(re.findall(regExp, doc)))"
   ]
  },
  {
   "cell_type": "code",
   "execution_count": null,
   "metadata": {},
   "outputs": [
    {
     "name": "stdout",
     "output_type": "stream",
     "text": [
      "\n",
      " for new [line, ] \\section and \\document and \\\\section \n",
      "\n"
     ]
    }
   ],
   "source": [
    "doc = \"\\n for new [line, ] \\section and \\document and \\\\\\section \\n\"\n",
    "print(doc)"
   ]
  },
  {
   "cell_type": "code",
   "execution_count": null,
   "metadata": {},
   "outputs": [
    {
     "name": "stdout",
     "output_type": "stream",
     "text": [
      "\\n for new [line, ] \\section and \\document and \\\\\\section \\n\n"
     ]
    }
   ],
   "source": [
    "doc = r\"\\n for new [line, ] \\section and \\document and \\\\\\section \\n\"\n",
    "print(doc)"
   ]
  },
  {
   "cell_type": "code",
   "execution_count": null,
   "metadata": {},
   "outputs": [
    {
     "name": "stdout",
     "output_type": "stream",
     "text": [
      "9\n"
     ]
    }
   ],
   "source": [
    "# 퀴즈 : \\랑 [랑 ]랑 가진 부분을 찾아주세요 : 갯수는 9가 되어야 합니다.\n",
    "doc = r\"\\n for new [line, ] \\section and \\document and \\\\\\section \\n\"\n",
    "regExp = \"[\\[\\]\\\\\\]\"\n",
    "print(len(re.findall(regExp, doc)))\n",
    "\n",
    "# \"[\\[\\]\\\\\\]\"\n",
    "# \"[  \\[   \\]  \\\\\\]\""
   ]
  },
  {
   "cell_type": "code",
   "execution_count": null,
   "metadata": {},
   "outputs": [
    {
     "name": "stdout",
     "output_type": "stream",
     "text": [
      "9\n"
     ]
    }
   ],
   "source": [
    "doc = r\"\\n for new [line, ] \\section and \\document and \\\\\\section \\n\"\n",
    "regExp_Brackets = \"[\\[\\]]\"\n",
    "brackets_count = len(re.findall(regExp_Brackets, doc))\n",
    "\n",
    "regExp_Slash = \"[\\\\\\\\]\"\n",
    "slash_count = len(re.findall(regExp_Slash, doc))\n",
    "\n",
    "print(brackets_count + slash_count)"
   ]
  },
  {
   "cell_type": "code",
   "execution_count": null,
   "metadata": {},
   "outputs": [
    {
     "name": "stdout",
     "output_type": "stream",
     "text": [
      "['\\\\section', '\\\\section']\n"
     ]
    }
   ],
   "source": [
    "# 퀴즈 : \\section 부분을 찾아주세요! \n",
    "doc = \"\\n for new [line, ] \\section and \\document and \\\\\\section \\n\"\n",
    "regExp = \"[\\\\\\]section\"\n",
    "print(re.findall(regExp, doc))\n"
   ]
  },
  {
   "cell_type": "code",
   "execution_count": null,
   "metadata": {},
   "outputs": [],
   "source": [
    "# \\d : 모두 숫자 0-9와 똑같다! [0-9]\n",
    "# \\D : [^0-9]\n",
    "# \\s : 모든 공백문자를 의미 [\\t\\n\\r\\f\\v]와 동일\n",
    "# \\S : [^\\t\\n\\r\\f\\v]\n",
    "# \\w : 모든 영문자 + 숫자 + underscore [a-zA-Z0-9_]와 동일 \n",
    "# \\W : [^a-zA-Z0-9_]"
   ]
  },
  {
   "cell_type": "code",
   "execution_count": null,
   "metadata": {},
   "outputs": [
    {
     "name": "stdout",
     "output_type": "stream",
     "text": [
      "[';', ';', ';', ';', ';']\n",
      "[';', '@', ';']\n",
      "[';', '=']\n",
      "['*', '*', '*', '*']\n",
      "['{', '{', '{', '{', '{', '@', '@', '#', '#', '}', '}', '}', '}', '}']\n"
     ]
    }
   ],
   "source": [
    "documents = ['asdfj;laieorkdjf;aliejr;akjdf23k4j;lajds;l',\n",
    "            'asdfjoqweitulad;ai@weutadg;lajoetiuaodkgjier',\n",
    "            'asdkfjqoitlskdnfoqwiekhas;ioew=adgoie',\n",
    "            'askdfl_asdkfei_asdjkfla****askeasfff',\n",
    "            '{{{{{asdfjowei@@##askdfoie}}}}}']\n",
    "regExp = '[\\W]'\n",
    "\n",
    "for line in documents:\n",
    "    rs = re.findall(regExp, line)\n",
    "    print(rs)"
   ]
  },
  {
   "cell_type": "code",
   "execution_count": null,
   "metadata": {},
   "outputs": [
    {
     "name": "stdout",
     "output_type": "stream",
     "text": [
      "['Yahoo', 'Yahooo', 'Yahoooo', 'Yahooooo', 'Yaho']\n"
     ]
    }
   ],
   "source": [
    "# * : *앞에 있는 문자가 없거나 갯수에 상관없이 형태를 유지하며 찾는다 : Greedy matching\n",
    "doc = \"YahooYahoooYahooooYahoooooYaho\"\n",
    "regExp = \"Yahoo*\"\n",
    "rs = re.findall(regExp, doc)\n",
    "print(rs)"
   ]
  },
  {
   "cell_type": "code",
   "execution_count": null,
   "metadata": {},
   "outputs": [
    {
     "name": "stdout",
     "output_type": "stream",
     "text": [
      "['asdfj', '', 'laieorkdjf', '', 'aliejr', '', 'akjdf23k4j', '', 'lajds', '', 'l', '']\n",
      "['asdfjoqweitulad', '', 'ai', '', 'weutadg', '', 'lajoetiuaodkgjier', '']\n",
      "['asdkfjqoitlskdnfoqwiekhas', '', 'ioew', '', 'adgoie', '']\n",
      "['askdfl_asdkfei_asdjkfla', '', '', '', '', 'askeasfff', '']\n",
      "['', '', '', '', '', 'asdfjowei', '', '', '', '', 'askdfoie', '', '', '', '', '', '']\n"
     ]
    }
   ],
   "source": [
    "documents = ['asdfj;laieorkdjf;aliejr;akjdf23k4j;lajds;l',\n",
    "            'asdfjoqweitulad;ai@weutadg;lajoetiuaodkgjier',\n",
    "            'asdkfjqoitlskdnfoqwiekhas;ioew=adgoie',\n",
    "            'askdfl_asdkfei_asdjkfla****askeasfff',\n",
    "            '{{{{{asdfjowei@@##askdfoie}}}}}']\n",
    "regExp = '[\\w]*'\n",
    "\n",
    "for line in documents:\n",
    "    rs = re.findall(regExp, line)\n",
    "    print(rs)"
   ]
  },
  {
   "cell_type": "code",
   "execution_count": null,
   "metadata": {},
   "outputs": [
    {
     "name": "stdout",
     "output_type": "stream",
     "text": [
      "['Yahooo', 'Yahoooo', 'Yahooooo']\n"
     ]
    }
   ],
   "source": [
    "# + : *앞에 있는 문자가 최소 1개이상 갯수에 상관없이 형태를 유지하며 찾는다\n",
    "doc = \"YahooYahoooYahooooYahoooooYaho\"\n",
    "regExp = \"Yahooo+\"\n",
    "rs = re.findall(regExp, doc)\n",
    "print(rs)"
   ]
  },
  {
   "cell_type": "code",
   "execution_count": null,
   "metadata": {},
   "outputs": [
    {
     "name": "stdout",
     "output_type": "stream",
     "text": [
      "['Yahooo', 'Yahooo', 'Yahooo']\n"
     ]
    }
   ],
   "source": [
    "# ? : ? 뒤에 문자가 없거나 존재하는 것 계속 확인\n",
    "doc = \"YahooYahoooYahooooYahoooooYaho\"\n",
    "regExp = \"Yah?ooo\" # Yahoo 라는 패턴이 있는 것 다 찾아달라\n",
    "rs = re.findall(regExp, doc)\n",
    "print(rs)"
   ]
  },
  {
   "cell_type": "code",
   "execution_count": null,
   "metadata": {},
   "outputs": [
    {
     "name": "stdout",
     "output_type": "stream",
     "text": [
      "['23', '4']\n",
      "['33', '53']\n",
      "['3', '3', '23', '42', '35', '23']\n",
      "['33', '43']\n",
      "[]\n"
     ]
    }
   ],
   "source": [
    "# {m, n}\n",
    "documents = ['asdfj;laieorkdjf;aliejr;akjdf23k4j;lajds;l',\n",
    "            'asdf33joqweitulad;ai@weutadg;lajoeti53uaodkgjier',\n",
    "            'asdkfjqoitf3f3lskdnfoqwi23423523ekhas;ioew=adgoie',\n",
    "            'a3343skdfl_asdkfei_asdjkfla****askeasfff',\n",
    "            '{{{{{asdfjowei@@##askdfoie}}}}}']\n",
    "regExp = '\\d{1,2}' # {0,} = *, {1,} = +, {0,1} = ?\n",
    "\n",
    "for line in documents:\n",
    "    rs = re.findall(regExp, line)\n",
    "    print(rs)"
   ]
  },
  {
   "cell_type": "code",
   "execution_count": 30,
   "metadata": {},
   "outputs": [
    {
     "data": {
      "text/plain": [
       "['a234122B', 'Ab']"
      ]
     },
     "execution_count": 30,
     "metadata": {},
     "output_type": "execute_result"
    }
   ],
   "source": [
    "p = re.compile(\"a\\d*b\", re.IGNORECASE)\n",
    "p.findall(\"a234122B2352Ab\")"
   ]
  },
  {
   "cell_type": "code",
   "execution_count": 21,
   "metadata": {},
   "outputs": [
    {
     "data": {
      "text/plain": [
       "[]"
      ]
     },
     "execution_count": 21,
     "metadata": {},
     "output_type": "execute_result"
    }
   ],
   "source": [
    "p = re.compile(\"a\\d*b\")\n",
    "p.findall(\"a234122B2352Ab\")"
   ]
  },
  {
   "cell_type": "code",
   "execution_count": 54,
   "metadata": {},
   "outputs": [
    {
     "name": "stdout",
     "output_type": "stream",
     "text": [
      "['      \\t    \\t   \\t ', '', '', '', ' ', '', '', '', '   \\t  ', '', '', '', ' ', '', '', '', '', '', ' ', '', '', '', ' ', '', '', '', '', '', '', '', '', '', '', '', '', '', '', '', '', '', '', '', '', '', '', '', '', '']\n"
     ]
    }
   ],
   "source": [
    "# space 문자들의 갯수를 찾아보고 싶다!\n",
    "# \\s : 모든 공백문자를 의미 [\\t\\n\\r\\f\\v]와 동일\n",
    "# \\S : [^\\t\\n\\r\\f\\v]\n",
    "doc = '      \\t    \\t   \\t how are   \\t  you today ... asdfjla;joeito;angl;a4o3'\n",
    "p = re.compile(\"\\s*\")\n",
    "m = p.findall(doc)\n",
    "print(m)"
   ]
  },
  {
   "cell_type": "code",
   "execution_count": 62,
   "metadata": {},
   "outputs": [
    {
     "name": "stdout",
     "output_type": "stream",
     "text": [
      "(0, 2) 0 2 2\n",
      "how are   \t  you today ... asdfjla;joeito;angl;a4o3\n"
     ]
    }
   ],
   "source": [
    "# match() 함수 : (원본) 문자열의 시작부분부터 패턴이 매칭이 되는지 검사\n",
    "# 문자열 중간에 패턴이 있더라고 시작부터 없으면 찾지 않는다.\n",
    "# match가 된 값을 얻으려면 group이라는 메서드를 사용\n",
    "# doc = '      \\t    \\t   \\t how are   \\t  you today ... asdfjla;joeito;angl;a4o3'\n",
    "doc = '  how are   \\t  you today ... asdfjla;joeito;angl;a4o3'\n",
    "p = re.compile(\"\\s*\")\n",
    "m = p.match(doc)\n",
    "print(m.span(), m.start(), m.end(), len(m.group()))\n",
    "print(doc[m.end():])"
   ]
  },
  {
   "cell_type": "code",
   "execution_count": 64,
   "metadata": {},
   "outputs": [
    {
     "name": "stdout",
     "output_type": "stream",
     "text": [
      "(1, 4) 1 4 3\n",
      "lololo\n",
      "olo\n"
     ]
    }
   ],
   "source": [
    "# search() : 처음부터 매칭되는 것을 찾아갑니다. 매칭되는 결과가 있다면 검사를 중지\n",
    "doc = \"lololololo\"\n",
    "p = re.compile(\"olo\")\n",
    "m = p.search(doc)\n",
    "print(m.span(), m.start(), m.end(), len(m.group()))\n",
    "print(doc[m.end():])\n",
    "print(m.group())"
   ]
  },
  {
   "cell_type": "code",
   "execution_count": 70,
   "metadata": {},
   "outputs": [
    {
     "name": "stdout",
     "output_type": "stream",
     "text": [
      "(0, 3)\n"
     ]
    }
   ],
   "source": [
    "doc = \"ololololo\"\n",
    "p = re.compile(\"olo\")\n",
    "m = p.match(doc)\n",
    "print(m.span())\n"
   ]
  },
  {
   "cell_type": "code",
   "execution_count": 77,
   "metadata": {},
   "outputs": [
    {
     "name": "stdout",
     "output_type": "stream",
     "text": [
      "(0, 5) asdfj\n",
      "(6, 16) laieorkdjf\n",
      "(17, 23) aliejr\n",
      "(24, 34) akjdf23k4j\n",
      "(35, 40) lajds\n",
      "(41, 59) lasdf33joqweitulad\n",
      "(60, 62) ai\n",
      "(63, 70) weutadg\n",
      "(71, 127) lajoeti53uaodkgjierasdkfjqoitf3f3lskdnfoqwi23423523ekhas\n",
      "(128, 132) ioew\n",
      "(133, 166) adgoiea3343skdfl_asdkfei_asdjkfla\n",
      "(170, 179) askeasfff\n",
      "(184, 193) asdfjowei\n",
      "(197, 205) askdfoie\n"
     ]
    }
   ],
   "source": [
    "documents = 'asdfj;laieorkdjf;aliejr;akjdf23k4j;lajds;lasdf33joqweitulad;ai@weutadg;lajoeti53uaodkgjierasdkfjqoitf3f3lskdnfoqwi23423523ekhas;ioew=adgoiea3343skdfl_asdkfei_asdjkfla****askeasfff{{{{{asdfjowei@@##askdfoie}}}}}'\n",
    "p = re.compile(\"[a-zA-Z_]\\w*\")\n",
    "iterator = p.finditer(documents)\n",
    "for match in iterator:\n",
    "    print(match.span(), match.group())"
   ]
  },
  {
   "cell_type": "code",
   "execution_count": 88,
   "metadata": {},
   "outputs": [
    {
     "name": "stdout",
     "output_type": "stream",
     "text": [
      "['\\\\', '[', ']', '\\\\', '\\\\', '\\\\', '\\\\', '\\\\', '\\\\']\n",
      "9\n"
     ]
    }
   ],
   "source": [
    "# | : 논리연산 or\n",
    "doc = r\"\\n for new [line, ] \\section and \\document and \\\\\\section \\n\"\n",
    "regExp_brackets = \"[\\[\\]]\"\n",
    "regExp_slashes = \"[\\\\\\]\"\n",
    "p = re.compile(regExp_brackets + \"|\" + regExp_slashes)\n",
    "# p = re.compile(regExp_brackets)\n",
    "# p = re.compile(regExp_slashes)\n",
    "print(p.findall(doc))\n",
    "print(len(p.findall(doc)))"
   ]
  },
  {
   "cell_type": "code",
   "execution_count": 97,
   "metadata": {},
   "outputs": [
    {
     "data": {
      "text/plain": [
       "((1, 5), 'From')"
      ]
     },
     "execution_count": 97,
     "metadata": {},
     "output_type": "execute_result"
    }
   ],
   "source": [
    "# ^ : []안에 ^이 존재한다면 그 클래스 문자 이외의 문자들을 의미한다!\n",
    "# [] 안에 ^이 없는 경우, regex 사용하는 문자열이 인덱스가 0부터 시작하는 확인\n",
    "# vim 이라는 리눅스에서 많이 사용하는 에디터의 경우 편집시 ^를 입력하는 경우, 바로 해당 문장의 앞으로 이동합니다.\n",
    "m = re.search(\"From\", \" From Here to Eternity\")\n",
    "m.span(), m.group()"
   ]
  },
  {
   "cell_type": "code",
   "execution_count": 99,
   "metadata": {},
   "outputs": [
    {
     "data": {
      "text/plain": [
       "((0, 4), 'From')"
      ]
     },
     "execution_count": 99,
     "metadata": {},
     "output_type": "execute_result"
    }
   ],
   "source": [
    "m = re.search(\"^From\", \"From Here to Eternity\")\n",
    "m.span(), m.group()"
   ]
  },
  {
   "cell_type": "code",
   "execution_count": 103,
   "metadata": {},
   "outputs": [
    {
     "data": {
      "text/plain": [
       "((9, 13), 'From')"
      ]
     },
     "execution_count": 103,
     "metadata": {},
     "output_type": "execute_result"
    }
   ],
   "source": [
    "m = re.search(\"From\", \"Reciting From Memory From Me\")\n",
    "m.span(), m.group()"
   ]
  },
  {
   "cell_type": "code",
   "execution_count": 104,
   "metadata": {},
   "outputs": [
    {
     "ename": "AttributeError",
     "evalue": "'NoneType' object has no attribute 'span'",
     "output_type": "error",
     "traceback": [
      "\u001b[1;31m---------------------------------------------------------------------------\u001b[0m",
      "\u001b[1;31mAttributeError\u001b[0m                            Traceback (most recent call last)",
      "\u001b[1;32mC:\\Users\\Public\\Documents\\ESTsoft\\CreatorTemp/ipykernel_2428/342322192.py\u001b[0m in \u001b[0;36m<module>\u001b[1;34m\u001b[0m\n\u001b[0;32m      1\u001b[0m \u001b[0mm\u001b[0m \u001b[1;33m=\u001b[0m \u001b[0mre\u001b[0m\u001b[1;33m.\u001b[0m\u001b[0msearch\u001b[0m\u001b[1;33m(\u001b[0m\u001b[1;34m\"^From\"\u001b[0m\u001b[1;33m,\u001b[0m \u001b[1;34m\"Reciting From Memory From Me\"\u001b[0m\u001b[1;33m)\u001b[0m\u001b[1;33m\u001b[0m\u001b[1;33m\u001b[0m\u001b[0m\n\u001b[1;32m----> 2\u001b[1;33m \u001b[0mm\u001b[0m\u001b[1;33m.\u001b[0m\u001b[0mspan\u001b[0m\u001b[1;33m(\u001b[0m\u001b[1;33m)\u001b[0m\u001b[1;33m,\u001b[0m \u001b[0mm\u001b[0m\u001b[1;33m.\u001b[0m\u001b[0mgroup\u001b[0m\u001b[1;33m(\u001b[0m\u001b[1;33m)\u001b[0m\u001b[1;33m\u001b[0m\u001b[1;33m\u001b[0m\u001b[0m\n\u001b[0m",
      "\u001b[1;31mAttributeError\u001b[0m: 'NoneType' object has no attribute 'span'"
     ]
    }
   ],
   "source": [
    "m = re.search(\"^From\", \"Reciting From Memory From Me\")\n",
    "m.span(), m.group()"
   ]
  },
  {
   "cell_type": "code",
   "execution_count": 106,
   "metadata": {},
   "outputs": [
    {
     "data": {
      "text/plain": [
       "((6, 7), '}')"
      ]
     },
     "execution_count": 106,
     "metadata": {},
     "output_type": "execute_result"
    }
   ],
   "source": [
    "# $ : 앞에서 살펴본 ^의 반대 개념,\n",
    "# vim 이라는 리눅스에서 많이 사용하는 에디터의 경우 편집시 $를 입력하는 경우, 바로 해당 문장의 끝으로 이동합니다.\n",
    "\n",
    "m = re.search(\"}$\", \"{block}\")\n",
    "m.span(), m.group()"
   ]
  },
  {
   "cell_type": "code",
   "execution_count": 108,
   "metadata": {},
   "outputs": [
    {
     "data": {
      "text/plain": [
       "((6, 7), '}')"
      ]
     },
     "execution_count": 108,
     "metadata": {},
     "output_type": "execute_result"
    }
   ],
   "source": [
    "m = re.search(\"}$\", \"{block}\\n\")\n",
    "m.span(), m.group()"
   ]
  },
  {
   "cell_type": "code",
   "execution_count": 109,
   "metadata": {},
   "outputs": [
    {
     "ename": "AttributeError",
     "evalue": "'NoneType' object has no attribute 'span'",
     "output_type": "error",
     "traceback": [
      "\u001b[1;31m---------------------------------------------------------------------------\u001b[0m",
      "\u001b[1;31mAttributeError\u001b[0m                            Traceback (most recent call last)",
      "\u001b[1;32mC:\\Users\\Public\\Documents\\ESTsoft\\CreatorTemp/ipykernel_2428/3858390739.py\u001b[0m in \u001b[0;36m<module>\u001b[1;34m\u001b[0m\n\u001b[0;32m      1\u001b[0m \u001b[0mm\u001b[0m \u001b[1;33m=\u001b[0m \u001b[0mre\u001b[0m\u001b[1;33m.\u001b[0m\u001b[0msearch\u001b[0m\u001b[1;33m(\u001b[0m\u001b[1;34m\"}$\"\u001b[0m\u001b[1;33m,\u001b[0m \u001b[1;34mr\"{block}\\n\"\u001b[0m\u001b[1;33m)\u001b[0m\u001b[1;33m\u001b[0m\u001b[1;33m\u001b[0m\u001b[0m\n\u001b[1;32m----> 2\u001b[1;33m \u001b[0mm\u001b[0m\u001b[1;33m.\u001b[0m\u001b[0mspan\u001b[0m\u001b[1;33m(\u001b[0m\u001b[1;33m)\u001b[0m\u001b[1;33m,\u001b[0m \u001b[0mm\u001b[0m\u001b[1;33m.\u001b[0m\u001b[0mgroup\u001b[0m\u001b[1;33m(\u001b[0m\u001b[1;33m)\u001b[0m\u001b[1;33m\u001b[0m\u001b[1;33m\u001b[0m\u001b[0m\n\u001b[0m",
      "\u001b[1;31mAttributeError\u001b[0m: 'NoneType' object has no attribute 'span'"
     ]
    }
   ],
   "source": [
    "m = re.search(\"}$\", r\"{block}\\n\")\n",
    "m.span(), m.group()"
   ]
  },
  {
   "cell_type": "code",
   "execution_count": 107,
   "metadata": {},
   "outputs": [
    {
     "ename": "AttributeError",
     "evalue": "'NoneType' object has no attribute 'span'",
     "output_type": "error",
     "traceback": [
      "\u001b[1;31m---------------------------------------------------------------------------\u001b[0m",
      "\u001b[1;31mAttributeError\u001b[0m                            Traceback (most recent call last)",
      "\u001b[1;32mC:\\Users\\Public\\Documents\\ESTsoft\\CreatorTemp/ipykernel_2428/1056242347.py\u001b[0m in \u001b[0;36m<module>\u001b[1;34m\u001b[0m\n\u001b[0;32m      1\u001b[0m \u001b[0mm\u001b[0m \u001b[1;33m=\u001b[0m \u001b[0mre\u001b[0m\u001b[1;33m.\u001b[0m\u001b[0msearch\u001b[0m\u001b[1;33m(\u001b[0m\u001b[1;34m\"}$\"\u001b[0m\u001b[1;33m,\u001b[0m \u001b[1;34m\"{block} \"\u001b[0m\u001b[1;33m)\u001b[0m\u001b[1;33m\u001b[0m\u001b[1;33m\u001b[0m\u001b[0m\n\u001b[1;32m----> 2\u001b[1;33m \u001b[0mm\u001b[0m\u001b[1;33m.\u001b[0m\u001b[0mspan\u001b[0m\u001b[1;33m(\u001b[0m\u001b[1;33m)\u001b[0m\u001b[1;33m,\u001b[0m \u001b[0mm\u001b[0m\u001b[1;33m.\u001b[0m\u001b[0mgroup\u001b[0m\u001b[1;33m(\u001b[0m\u001b[1;33m)\u001b[0m\u001b[1;33m\u001b[0m\u001b[1;33m\u001b[0m\u001b[0m\n\u001b[0m",
      "\u001b[1;31mAttributeError\u001b[0m: 'NoneType' object has no attribute 'span'"
     ]
    }
   ],
   "source": [
    "m = re.search(\"}$\", \"{block} \")\n",
    "m.span(), m.group()"
   ]
  },
  {
   "cell_type": "code",
   "execution_count": 110,
   "metadata": {},
   "outputs": [
    {
     "data": {
      "text/plain": [
       "((7, 22), 'thethethethethe')"
      ]
     },
     "execution_count": 110,
     "metadata": {},
     "output_type": "execute_result"
    }
   ],
   "source": [
    "# () : 단일 문자처럼 다루고 싶은 문자들 모아두는 것\n",
    "doc = \"find inthethethethethegroup\"\n",
    "p = re.compile(\"(the)+\")\n",
    "m = p.search(doc)\n",
    "m.span(), m.group()"
   ]
  },
  {
   "cell_type": "code",
   "execution_count": 111,
   "metadata": {},
   "outputs": [
    {
     "data": {
      "text/plain": [
       "((7, 10), 'the')"
      ]
     },
     "execution_count": 111,
     "metadata": {},
     "output_type": "execute_result"
    }
   ],
   "source": [
    "doc = \"find inthethethethethegroup\"\n",
    "p = re.compile(\"the\")\n",
    "m = p.search(doc)\n",
    "m.span(), m.group()"
   ]
  },
  {
   "cell_type": "code",
   "execution_count": 116,
   "metadata": {},
   "outputs": [
    {
     "name": "stdout",
     "output_type": "stream",
     "text": [
      "['the']\n"
     ]
    }
   ],
   "source": [
    "doc = \"find inthethethethethegroup\"\n",
    "p = re.compile(\"(the)+\")\n",
    "print(p.findall(doc))\n"
   ]
  },
  {
   "cell_type": "code",
   "execution_count": 118,
   "metadata": {},
   "outputs": [
    {
     "data": {
      "text/plain": [
       "['', ' ', ', --++**\\\\ ', ' ', ' ', ' ', ' ,,... ', '&&##', '']"
      ]
     },
     "execution_count": 118,
     "metadata": {},
     "output_type": "execute_result"
    }
   ],
   "source": [
    "# word tokenizer를 간단히 경험!\n",
    "doc = \"This test, --++**\\\\ is short and sweet ,,... 45u4__&&##buft\"\n",
    "p = re.compile(\"\\w+\")\n",
    "p.split(doc)"
   ]
  },
  {
   "cell_type": "code",
   "execution_count": 119,
   "metadata": {},
   "outputs": [
    {
     "data": {
      "text/plain": [
       "['This', 'test', 'is', 'short', 'and', 'sweet', '45u4__', 'buft']"
      ]
     },
     "execution_count": 119,
     "metadata": {},
     "output_type": "execute_result"
    }
   ],
   "source": [
    "doc = \"This test, --++**\\\\ is short and sweet ,,... 45u4__&&##buft\"\n",
    "p = re.compile(\"\\W+\")\n",
    "p.split(doc)"
   ]
  },
  {
   "cell_type": "code",
   "execution_count": 123,
   "metadata": {},
   "outputs": [
    {
     "data": {
      "text/plain": [
       "['This',\n",
       " 'test,',\n",
       " '--++**\\\\',\n",
       " 'is',\n",
       " 'short',\n",
       " 'and',\n",
       " 'sweet',\n",
       " ',,...',\n",
       " '45u4__&&##buft']"
      ]
     },
     "execution_count": 123,
     "metadata": {},
     "output_type": "execute_result"
    }
   ],
   "source": [
    "doc.split(\" \")"
   ]
  },
  {
   "cell_type": "code",
   "execution_count": 125,
   "metadata": {},
   "outputs": [
    {
     "data": {
      "text/plain": [
       "'color shoes and color socks'"
      ]
     },
     "execution_count": 125,
     "metadata": {},
     "output_type": "execute_result"
    }
   ],
   "source": [
    "p = re.compile(\"(blue\\s|white\\s|red\\s)+\")\n",
    "p.sub(\"color \", \"blue red shoes and white blue red socks\")"
   ]
  },
  {
   "cell_type": "code",
   "execution_count": 129,
   "metadata": {},
   "outputs": [
    {
     "data": {
      "text/plain": [
       "'color shoes and color socks'"
      ]
     },
     "execution_count": 129,
     "metadata": {},
     "output_type": "execute_result"
    }
   ],
   "source": [
    "p = re.compile(\"(blue\\s|white\\s|red\\s)+\")\n",
    "p.sub(\"color \", \"blue red shoes and white blue red socks\")"
   ]
  },
  {
   "cell_type": "code",
   "execution_count": null,
   "metadata": {},
   "outputs": [],
   "source": [
    "# 마지막 실습 및 퀴즈 :\n",
    "# 1) 연결된 공백 문자를 1개로 교체\n",
    "# 2) 앞에 있는 공백을 제거\n",
    "# 3) 뒤에 있는 공백도 제거\n",
    "doc = \"   abd     asd kluoeiur   liueou lkuioe    lieoj \\t sd \"\n",
    "\n"
   ]
  }
 ],
 "metadata": {
  "language_info": {
   "name": "python"
  },
  "orig_nbformat": 4
 },
 "nbformat": 4,
 "nbformat_minor": 2
}
